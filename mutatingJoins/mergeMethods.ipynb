{
 "cells": [
  {
   "cell_type": "markdown",
   "metadata": {},
   "source": [
    "# Merge methods (mutating joins)"
   ]
  },
  {
   "cell_type": "markdown",
   "metadata": {},
   "source": [
    "![alt text](https://storage.googleapis.com/campus-cvs/lectures/3.4%20Mutating%20Joins.png \"Mutating Joins\")"
   ]
  },
  {
   "cell_type": "markdown",
   "metadata": {},
   "source": [
    "**IMPORTANTE:** En esta clase se asume que los datos ya se encuentran en un formato comúnmente conocido como “tidy data”, es decir, donde cada fila corresponde a una única observación y cada columna contiene valores correspondientes a una única variable. En esta lectura, utilizaremos de ejemplo un data set que ya cumple con la anterior definición."
   ]
  },
  {
   "cell_type": "markdown",
   "metadata": {},
   "source": [
    "En la práctica, es raro que un análisis de datos involucre solamente una tabla. Normalmente tendrás muchas tablas contribuyendo a tu análisis y necesitas herramientas flexibles para combinarlas."
   ]
  },
  {
   "cell_type": "markdown",
   "metadata": {},
   "source": [
    "Los usuarios experimentados de bases de datos relacionales como SQL estarán familiarizados con la terminología utilizada para describir las operaciones de unión entre dos estructuras similares a tablas SQL (objetos DataFrame). Hay varios casos a considerar que es muy importante comprender:"
   ]
  },
  {
   "cell_type": "markdown",
   "metadata": {},
   "source": [
    "- **Uniones uno a uno:** por ejemplo, al unir dos objetos DataFrame en sus índices (que deben contener valores únicos).\n",
    "\n",
    "- **Uniones de muchos a uno:** por ejemplo, cuando se une un índice (único) a una o más columnas en un DataFrame diferente.\n",
    "\n",
    "- **Uniones de varios a varios:** unión de columnas en columnas."
   ]
  },
  {
   "cell_type": "markdown",
   "metadata": {},
   "source": [
    "#### Nota:\n",
    "Al unir columnas en columnas (potencialmente una combinación de muchos a muchos), se descartarán los índices de los objetos DataFrame pasados."
   ]
  },
  {
   "cell_type": "markdown",
   "metadata": {},
   "source": [
    "Vale la pena dedicar un tiempo a comprender el resultado del caso de unión de varios a varios. En SQL / álgebra relacional estándar, si una combinación de teclas aparece más de una vez en ambas tablas, la tabla resultante tendrá el producto cartesiano de los datos asociados. Aquí hay un ejemplo muy básico con una combinación de teclas única:"
   ]
  },
  {
   "cell_type": "code",
   "execution_count": 3,
   "metadata": {},
   "outputs": [],
   "source": [
    "import pandas as pd"
   ]
  },
  {
   "cell_type": "code",
   "execution_count": 4,
   "metadata": {},
   "outputs": [],
   "source": [
    "left = pd.DataFrame(\n",
    "    {\n",
    "        \"key\": [\"K0\", \"K1\", \"K2\", \"K3\"],\n",
    "        \"A\": [\"A0\", \"A1\", \"A2\", \"A3\"],\n",
    "        \"B\": [\"B0\", \"B1\", \"B2\", \"B3\"],\n",
    "    }\n",
    ")"
   ]
  },
  {
   "cell_type": "code",
   "execution_count": 5,
   "metadata": {},
   "outputs": [],
   "source": [
    "right = pd.DataFrame(\n",
    "    {\n",
    "        \"key\": [\"K0\", \"K1\", \"K2\", \"K3\"],\n",
    "        \"C\": [\"C0\", \"C1\", \"C2\", \"C3\"],\n",
    "        \"D\": [\"D0\", \"D1\", \"D2\", \"D3\"],\n",
    "    }\n",
    ")"
   ]
  },
  {
   "cell_type": "markdown",
   "metadata": {},
   "source": [
    "## Mutating Joins"
   ]
  },
  {
   "cell_type": "markdown",
   "metadata": {},
   "source": [
    "**Los mutating joins permiten combinar variables de distintas tablas.** En nuestro ejemplo, vamos a trabajar con los datos del paquete `nycflights13`, el cual contiene una colección de bases de datos acerca de vuelos."
   ]
  },
  {
   "cell_type": "markdown",
   "metadata": {},
   "source": [
    "En una tabla (flights) tenemos información de los vuelos, donde cada vuelo cuenta con una abreviatura para la aerolínea, y en la otra (airlines) tenemos una tabla que relaciona dichas abreviaturas con sus nombres completos."
   ]
  },
  {
   "cell_type": "markdown",
   "metadata": {},
   "source": [
    "Ejecute el siguiente código en RStudio e intente identificar las columnas que ambas tablas tienen en común:"
   ]
  },
  {
   "cell_type": "code",
   "execution_count": null,
   "metadata": {},
   "outputs": [],
   "source": []
  },
  {
   "cell_type": "markdown",
   "metadata": {},
   "source": [
    "Ahora, supongamos que quieres añadir la columna de nombres completos de las aerolíneas en airlines a la tabla con información de vuelos en flights. Para lograrlo, puedes utilizar un join, más concretamente un left_join que preservará las columnas de la tabla flights y añadirá las columnas de la tabla airlines que no tengan en común."
   ]
  },
  {
   "cell_type": "markdown",
   "metadata": {},
   "source": [
    "En nuestro ejemplo, la única columna en común es carrier, por lo tanto, se buscarán coincidencias en las abreviaturas en ambas columnas para colocar correctamente los nombres completos:"
   ]
  },
  {
   "cell_type": "code",
   "execution_count": null,
   "metadata": {},
   "outputs": [],
   "source": []
  }
 ],
 "metadata": {
  "kernelspec": {
   "display_name": "Python 3",
   "language": "python",
   "name": "python3"
  },
  "language_info": {
   "codemirror_mode": {
    "name": "ipython",
    "version": 3
   },
   "file_extension": ".py",
   "mimetype": "text/x-python",
   "name": "python",
   "nbconvert_exporter": "python",
   "pygments_lexer": "ipython3",
   "version": "3.8.5"
  }
 },
 "nbformat": 4,
 "nbformat_minor": 4
}
